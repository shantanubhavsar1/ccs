{
 "cells": [
  {
   "cell_type": "code",
   "execution_count": null,
   "id": "7a9e90c8-31f8-4074-9176-293e85ad5d1f",
   "metadata": {},
   "outputs": [],
   "source": [
    "from Crypto.Cipher import DES\n",
    "from Crypto.Util.Padding import pad, unpad\n",
    "\n",
    "def des_encrypt(key, plaintext):\n",
    "    cipher = DES.new(key, DES.MODE_ECB)\n",
    "    padded_text = pad(plaintext.encode(), DES.block_size)\n",
    "    encrypted_text = cipher.encrypt(padded_text)\n",
    "    return encrypted_text\n",
    "\n",
    "def des_decrypt(key, ciphertext):\n",
    "    cipher = DES.new(key, DES.MODE_ECB)\n",
    "    decrypted_padded_text = cipher.decrypt(ciphertext)\n",
    "    decrypted_text = unpad(decrypted_padded_text, DES.block_size)\n",
    "    return decrypted_text.decode()\n",
    "\n",
    "# Example usage\n",
    "key = b'8bytekey'  # DES key must be 8 bytes long\n",
    "plaintext = \"Hello, DES!\"\n",
    "\n",
    "encrypted = des_encrypt(key, plaintext)\n",
    "print(f\"Encrypted: {encrypted}\")\n",
    "\n",
    "decrypted = des_decrypt(key, encrypted)\n",
    "print(f\"Decrypted: {decrypted}\")\n"
   ]
  }
 ],
 "metadata": {
  "kernelspec": {
   "display_name": "Python [conda env:base] *",
   "language": "python",
   "name": "conda-base-py"
  },
  "language_info": {
   "codemirror_mode": {
    "name": "ipython",
    "version": 3
   },
   "file_extension": ".py",
   "mimetype": "text/x-python",
   "name": "python",
   "nbconvert_exporter": "python",
   "pygments_lexer": "ipython3",
   "version": "3.12.7"
  }
 },
 "nbformat": 4,
 "nbformat_minor": 5
}
