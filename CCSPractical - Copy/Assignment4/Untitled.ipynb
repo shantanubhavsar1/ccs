{
 "cells": [
  {
   "cell_type": "code",
   "execution_count": 1,
   "id": "0d2ce46a-ba97-4d5e-af14-140673dd3a7a",
   "metadata": {},
   "outputs": [
    {
     "name": "stdout",
     "output_type": "stream",
     "text": [
      "key is :b'B\\x93\\x07\\x18\\xa4\\xf1|A\\xc9\\xa3\\x9b\\xb8QG\\xac\\xf2'\n",
      "Ciphertext is :b'\\xad\\x11\\x96O7\\x89\\xebp\\xd4\\x9c,\\xdf\\xb5\\x07\\x8f\\xc04'\n",
      "Plaintext is :b'My name is nikhil'\n"
     ]
    }
   ],
   "source": [
    "from Crypto.Cipher import AES\n",
    "from secrets import token_bytes\n",
    "\n",
    "key=token_bytes(16)\n",
    "print(f\"key is :{key}\")\n",
    "\n",
    "cipher=AES.new(key, AES.MODE_EAX)\n",
    "data=\"My name is nikhil\".encode()\n",
    "nonce=cipher.nonce\n",
    "ciphertext=cipher.encrypt(data)\n",
    "print(f\"Ciphertext is :{ciphertext}\")\n",
    "cipher=AES.new(key, AES.MODE_EAX, nonce=nonce)\n",
    "plaintext=cipher.decrypt(ciphertext)\n",
    "print(f\"Plaintext is :{plaintext}\")"
   ]
  },
  {
   "cell_type": "code",
   "execution_count": null,
   "id": "ad484d64-d53d-4bc6-8a2f-f5d0c2b88230",
   "metadata": {},
   "outputs": [],
   "source": []
  }
 ],
 "metadata": {
  "kernelspec": {
   "display_name": "Python [conda env:base] *",
   "language": "python",
   "name": "conda-base-py"
  },
  "language_info": {
   "codemirror_mode": {
    "name": "ipython",
    "version": 3
   },
   "file_extension": ".py",
   "mimetype": "text/x-python",
   "name": "python",
   "nbconvert_exporter": "python",
   "pygments_lexer": "ipython3",
   "version": "3.12.7"
  }
 },
 "nbformat": 4,
 "nbformat_minor": 5
}
